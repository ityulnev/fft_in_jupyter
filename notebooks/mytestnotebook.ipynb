{
 "cells": [
  {
   "cell_type": "markdown",
   "metadata": {},
   "source": [
    "# <a id=notebook_start></a>\n",
    "There is an infinte amount of resources out there, for instance [here](https://www.dataquest.io/blog/jupyter-notebook-tips-tricks-shortcuts/).\n",
    "\n",
    "\n",
    "# Notebook intro\n",
    "\n",
    "\n",
    "## navigating the notebook\n",
    "\n",
    "There are three types of cells:\n",
    "1. input cells - contain the actual code\n",
    "2. output cell - display the results of the computation\n",
    "3. markdown cells - provide documentation and instructions\n",
    "\n",
    "\n",
    "The Jupyter Notebook has two different keyboard input modes.\n",
    "1. Edit mode allows you to type code or text into a cell and is indicated by a green cell border.\n",
    "2. Command mode binds the keyboard to notebook level commands and is indicated by a grey cell border with a blue left margin.\n",
    "\n",
    "\n",
    "Command mode is activated by hitting `ESC`\n",
    "You can swtich back to edit mode by hitting `ENTER`\n",
    "\n",
    "\n",
    "\n",
    "Some useful shortcuts are\n",
    "- `ESC`+`dd` - delete cell\n",
    "- `ESC`+`a` - add cell above\n",
    "- `ESC`+`b` - add cell below\n",
    "- `ESC`+`l` - toggle line numbers\n",
    "- `SHIFT`+`ENTER` - execute cell\n",
    "- `ENTER` - enter edit mode\n",
    "\n",
    "To get more help, open the shortcut by hitting `ESC` followed by `h`\n",
    "\n",
    "\n"
   ]
  },
  {
   "cell_type": "code",
   "execution_count": null,
   "metadata": {},
   "outputs": [],
   "source": []
  },
  {
   "cell_type": "markdown",
   "metadata": {},
   "source": [
    "## imports, packages and magic commands\n",
    "\n",
    "In almost any case you will use existing packages. A common good practice is to load them at the beginning of the notebook using the `import` command.\n"
   ]
  },
  {
   "cell_type": "code",
   "execution_count": 1,
   "metadata": {
    "ExecuteTime": {
     "end_time": "2020-01-07T08:20:24.413514Z",
     "start_time": "2020-01-07T08:20:24.389932Z"
    }
   },
   "outputs": [],
   "source": [
    "import numpy as np # widely used python library for data manipulation, the 'as' allows you to rename the package on import\n",
    "from scipy import constants  # this is how you just get specific subpackages or functions\n",
    "import sys # get some information about the current OS"
   ]
  },
  {
   "cell_type": "code",
   "execution_count": 2,
   "metadata": {
    "ExecuteTime": {
     "end_time": "2020-01-07T08:19:37.518118Z",
     "start_time": "2020-01-07T08:19:37.493169Z"
    }
   },
   "outputs": [
    {
     "data": {
      "text/plain": [
       "'3.7.4 (default, Aug 13 2019, 15:17:50) \\n[Clang 4.0.1 (tags/RELEASE_401/final)]'"
      ]
     },
     "execution_count": 2,
     "metadata": {},
     "output_type": "execute_result"
    }
   ],
   "source": [
    "sys.version # show the python version"
   ]
  },
  {
   "cell_type": "code",
   "execution_count": 3,
   "metadata": {
    "ExecuteTime": {
     "end_time": "2020-01-07T08:20:06.111978Z",
     "start_time": "2020-01-07T08:20:06.085653Z"
    }
   },
   "outputs": [
    {
     "data": {
      "text/plain": [
       "'/Users/ityulnev/opt/anaconda3/bin/python'"
      ]
     },
     "execution_count": 3,
     "metadata": {},
     "output_type": "execute_result"
    }
   ],
   "source": [
    "sys.executable  # show the path to the python executable - very useful to check when things don't work as expected!"
   ]
  },
  {
   "cell_type": "markdown",
   "metadata": {
    "ExecuteTime": {
     "end_time": "2020-01-07T08:02:01.210857Z",
     "start_time": "2020-01-07T08:02:01.200766Z"
    }
   },
   "source": [
    "[magic commands](https://ipython.readthedocs.io/en/stable/interactive/magics.html) are special commands that give some extended functionality to the notebook."
   ]
  },
  {
   "cell_type": "code",
   "execution_count": 4,
   "metadata": {
    "ExecuteTime": {
     "end_time": "2020-01-07T08:13:21.361736Z",
     "start_time": "2020-01-07T08:13:20.433403Z"
    }
   },
   "outputs": [],
   "source": [
    "# show figures inline in the notebook\n",
    "%matplotlib inline \n",
    "\n",
    "# the following command reloads external packages that have been changed externally without the need to restart the kernel\n",
    "%load_ext autoreload\n",
    "%autoreload 2"
   ]
  },
  {
   "cell_type": "markdown",
   "metadata": {},
   "source": [
    "This will list all magic commands"
   ]
  },
  {
   "cell_type": "code",
   "execution_count": 5,
   "metadata": {
    "ExecuteTime": {
     "end_time": "2020-01-07T08:13:22.029974Z",
     "start_time": "2020-01-07T08:13:22.001765Z"
    }
   },
   "outputs": [
    {
     "data": {
      "application/json": {
       "cell": {
        "!": "OSMagics",
        "HTML": "Other",
        "SVG": "Other",
        "bash": "Other",
        "capture": "ExecutionMagics",
        "debug": "ExecutionMagics",
        "file": "Other",
        "html": "DisplayMagics",
        "javascript": "DisplayMagics",
        "js": "DisplayMagics",
        "latex": "DisplayMagics",
        "markdown": "DisplayMagics",
        "perl": "Other",
        "prun": "ExecutionMagics",
        "pypy": "Other",
        "python": "Other",
        "python2": "Other",
        "python3": "Other",
        "ruby": "Other",
        "script": "ScriptMagics",
        "sh": "Other",
        "svg": "DisplayMagics",
        "sx": "OSMagics",
        "system": "OSMagics",
        "time": "ExecutionMagics",
        "timeit": "ExecutionMagics",
        "writefile": "OSMagics"
       },
       "line": {
        "aimport": "AutoreloadMagics",
        "alias": "OSMagics",
        "alias_magic": "BasicMagics",
        "autoawait": "AsyncMagics",
        "autocall": "AutoMagics",
        "automagic": "AutoMagics",
        "autoreload": "AutoreloadMagics",
        "autosave": "KernelMagics",
        "bookmark": "OSMagics",
        "cat": "Other",
        "cd": "OSMagics",
        "clear": "KernelMagics",
        "colors": "BasicMagics",
        "conda": "PackagingMagics",
        "config": "ConfigMagics",
        "connect_info": "KernelMagics",
        "cp": "Other",
        "debug": "ExecutionMagics",
        "dhist": "OSMagics",
        "dirs": "OSMagics",
        "doctest_mode": "BasicMagics",
        "ed": "Other",
        "edit": "KernelMagics",
        "env": "OSMagics",
        "gui": "BasicMagics",
        "hist": "Other",
        "history": "HistoryMagics",
        "killbgscripts": "ScriptMagics",
        "ldir": "Other",
        "less": "KernelMagics",
        "lf": "Other",
        "lk": "Other",
        "ll": "Other",
        "load": "CodeMagics",
        "load_ext": "ExtensionMagics",
        "loadpy": "CodeMagics",
        "logoff": "LoggingMagics",
        "logon": "LoggingMagics",
        "logstart": "LoggingMagics",
        "logstate": "LoggingMagics",
        "logstop": "LoggingMagics",
        "ls": "Other",
        "lsmagic": "BasicMagics",
        "lx": "Other",
        "macro": "ExecutionMagics",
        "magic": "BasicMagics",
        "man": "KernelMagics",
        "matplotlib": "PylabMagics",
        "mkdir": "Other",
        "more": "KernelMagics",
        "mv": "Other",
        "notebook": "BasicMagics",
        "page": "BasicMagics",
        "pastebin": "CodeMagics",
        "pdb": "ExecutionMagics",
        "pdef": "NamespaceMagics",
        "pdoc": "NamespaceMagics",
        "pfile": "NamespaceMagics",
        "pinfo": "NamespaceMagics",
        "pinfo2": "NamespaceMagics",
        "pip": "PackagingMagics",
        "popd": "OSMagics",
        "pprint": "BasicMagics",
        "precision": "BasicMagics",
        "prun": "ExecutionMagics",
        "psearch": "NamespaceMagics",
        "psource": "NamespaceMagics",
        "pushd": "OSMagics",
        "pwd": "OSMagics",
        "pycat": "OSMagics",
        "pylab": "PylabMagics",
        "qtconsole": "KernelMagics",
        "quickref": "BasicMagics",
        "recall": "HistoryMagics",
        "rehashx": "OSMagics",
        "reload_ext": "ExtensionMagics",
        "rep": "Other",
        "rerun": "HistoryMagics",
        "reset": "NamespaceMagics",
        "reset_selective": "NamespaceMagics",
        "rm": "Other",
        "rmdir": "Other",
        "run": "ExecutionMagics",
        "save": "CodeMagics",
        "sc": "OSMagics",
        "set_env": "OSMagics",
        "store": "StoreMagics",
        "sx": "OSMagics",
        "system": "OSMagics",
        "tb": "ExecutionMagics",
        "time": "ExecutionMagics",
        "timeit": "ExecutionMagics",
        "unalias": "OSMagics",
        "unload_ext": "ExtensionMagics",
        "who": "NamespaceMagics",
        "who_ls": "NamespaceMagics",
        "whos": "NamespaceMagics",
        "xdel": "NamespaceMagics",
        "xmode": "BasicMagics"
       }
      },
      "text/plain": [
       "Available line magics:\n",
       "%aimport  %alias  %alias_magic  %autoawait  %autocall  %automagic  %autoreload  %autosave  %bookmark  %cat  %cd  %clear  %colors  %conda  %config  %connect_info  %cp  %debug  %dhist  %dirs  %doctest_mode  %ed  %edit  %env  %gui  %hist  %history  %killbgscripts  %ldir  %less  %lf  %lk  %ll  %load  %load_ext  %loadpy  %logoff  %logon  %logstart  %logstate  %logstop  %ls  %lsmagic  %lx  %macro  %magic  %man  %matplotlib  %mkdir  %more  %mv  %notebook  %page  %pastebin  %pdb  %pdef  %pdoc  %pfile  %pinfo  %pinfo2  %pip  %popd  %pprint  %precision  %prun  %psearch  %psource  %pushd  %pwd  %pycat  %pylab  %qtconsole  %quickref  %recall  %rehashx  %reload_ext  %rep  %rerun  %reset  %reset_selective  %rm  %rmdir  %run  %save  %sc  %set_env  %store  %sx  %system  %tb  %time  %timeit  %unalias  %unload_ext  %who  %who_ls  %whos  %xdel  %xmode\n",
       "\n",
       "Available cell magics:\n",
       "%%!  %%HTML  %%SVG  %%bash  %%capture  %%debug  %%file  %%html  %%javascript  %%js  %%latex  %%markdown  %%perl  %%prun  %%pypy  %%python  %%python2  %%python3  %%ruby  %%script  %%sh  %%svg  %%sx  %%system  %%time  %%timeit  %%writefile\n",
       "\n",
       "Automagic is ON, % prefix IS NOT needed for line magics."
      ]
     },
     "execution_count": 5,
     "metadata": {},
     "output_type": "execute_result"
    }
   ],
   "source": [
    "%lsmagic"
   ]
  },
  {
   "cell_type": "code",
   "execution_count": 6,
   "metadata": {
    "ExecuteTime": {
     "end_time": "2020-01-07T08:14:57.550029Z",
     "start_time": "2020-01-07T08:14:57.525553Z"
    }
   },
   "outputs": [
    {
     "name": "stdout",
     "output_type": "stream",
     "text": [
      "a\t \n",
      "b\t \n"
     ]
    }
   ],
   "source": [
    "a = 'this is a string'\n",
    "b = 1 # this is an integer\n",
    "\n",
    "# list variables\n",
    "%who str\n",
    "%who int"
   ]
  },
  {
   "cell_type": "markdown",
   "metadata": {},
   "source": [
    "The `!` allows you to execute shell commands directly from the notebook. You can also [exectute different kernels](https://www.dataquest.io/blog/jupyter-notebook-tips-tricks-shortcuts/) in a single notebook!"
   ]
  },
  {
   "cell_type": "code",
   "execution_count": 7,
   "metadata": {
    "ExecuteTime": {
     "end_time": "2020-01-07T08:40:20.958583Z",
     "start_time": "2020-01-07T08:40:20.815644Z"
    }
   },
   "outputs": [
    {
     "name": "stdout",
     "output_type": "stream",
     "text": [
      "../../images/nbextensions.png\r\n"
     ]
    }
   ],
   "source": [
    "! ls ../../images/nbextensions.png"
   ]
  },
  {
   "cell_type": "markdown",
   "metadata": {},
   "source": [
    "## extensions\n",
    "\n",
    "You can install notebook extensions by \n",
    "\n",
    "If everything is installed, you should get the following tab\n",
    "![](../../images/nbextensions.png)\n",
    "\n",
    "One extension that I find particularly usefull is the Table of contents, that provides a TOC based on the titles and subtitles in the notebook."
   ]
  },
  {
   "cell_type": "markdown",
   "metadata": {},
   "source": [
    "## Latex, Markdown and HTML\n",
    "\n",
    "You can write beatiful notebooks using LaTex and [Markdown](https://www.markdownguide.org/cheat-sheet/). Just open any of the cells in this notebook to see the underlying markdown code.\n",
    "\n",
    "Latex is rendered as expected, for example: $\\alpha$.\n",
    "\n",
    "You can also have inline equations:\n",
    "\n",
    "$$\n",
    "\\alpha = \\int_0^\\infty sin(x) dx\n",
    "$$\n",
    "\n",
    "and numbered equations\n",
    "\n",
    "\n",
    "\\begin{align}\n",
    "\\alpha &= \\int_0^\\infty \\sin(x) dx \\\\\n",
    "\\beta &= \\frac{\\partial}{\\partial y} \\cos(y)\n",
    "\\end{align}\n",
    "\n",
    "\n",
    "To navigate the notebook you can also create internal links within the notebook using regular HTML code:\n",
    "\n",
    "- `<a href='#my_label'>some text</a>` - links to `#my_label`\n",
    "- `<a id=my_label></a>` - defines the target of the link.\n",
    "\n",
    "For examle, this <a href='#notebook_start'>link</a> brings you back to the beginning of the notebook.\n",
    "Note that links \"don't work\" when the cell is still in edit mode!\n",
    "\n",
    "\n",
    "<p style=\"color: red;\">\n",
    "Note: HTML also allows you to add some color to you notebooks.\n",
    "</p>"
   ]
  },
  {
   "cell_type": "markdown",
   "metadata": {},
   "source": [
    "# Python intro\n",
    "\n",
    "\n",
    "There are more the enough resources on the internet. Here, I will just remind some specifically pythonic code snippets that I find useful."
   ]
  },
  {
   "cell_type": "markdown",
   "metadata": {},
   "source": [
    "## functions\n",
    "\n",
    "Are defined as follows. You can also create classes and more complicated objects."
   ]
  },
  {
   "cell_type": "code",
   "execution_count": 8,
   "metadata": {
    "ExecuteTime": {
     "end_time": "2020-01-07T09:44:16.227910Z",
     "start_time": "2020-01-07T09:44:16.209216Z"
    }
   },
   "outputs": [],
   "source": [
    "def simple_function(my_number, my_string='there is nothing'):\n",
    "    \"\"\"\n",
    "    This is the doctring. It contains the documentation of the functions. You can access it with `?`\n",
    "    \n",
    "    \"\"\"\n",
    "    \n",
    "    \n",
    "    return my_string + str(my_number)"
   ]
  },
  {
   "cell_type": "code",
   "execution_count": 9,
   "metadata": {
    "ExecuteTime": {
     "end_time": "2020-01-07T09:44:02.161152Z",
     "start_time": "2020-01-07T09:44:02.138724Z"
    }
   },
   "outputs": [],
   "source": [
    "?simple_function"
   ]
  },
  {
   "cell_type": "code",
   "execution_count": 10,
   "metadata": {},
   "outputs": [],
   "source": [
    "# a short version of writing the above is using a lambda function\n",
    "simple_function = lambda my_number, my_string='there is nothing' : my_string + str(my_number)"
   ]
  },
  {
   "cell_type": "markdown",
   "metadata": {},
   "source": [
    "## dictionaries\n",
    "\n",
    "Are very usefull for writing human friendly code:"
   ]
  },
  {
   "cell_type": "code",
   "execution_count": 11,
   "metadata": {
    "ExecuteTime": {
     "end_time": "2020-01-07T08:49:50.469982Z",
     "start_time": "2020-01-07T08:49:50.451630Z"
    }
   },
   "outputs": [
    {
     "data": {
      "text/plain": [
       "{'my_number': 1, 'my_string': 'hello'}"
      ]
     },
     "execution_count": 11,
     "metadata": {},
     "output_type": "execute_result"
    }
   ],
   "source": [
    "simple_dict = {'my_number': 1, 'my_string': 'hello'}\n",
    "\n",
    "# an alternative way to define the same dictionary (this one is usefull when you want to turn a bunch of definitions into a dict)\n",
    "simple_dict = dict(\n",
    "    my_number = 1,\n",
    "    my_string = 'hello'\n",
    ")\n",
    "\n",
    "simple_dict"
   ]
  },
  {
   "cell_type": "markdown",
   "metadata": {},
   "source": [
    "you can use dicts to pass many arguments in a compact way"
   ]
  },
  {
   "cell_type": "code",
   "execution_count": 12,
   "metadata": {
    "ExecuteTime": {
     "end_time": "2020-01-07T08:51:24.593398Z",
     "start_time": "2020-01-07T08:51:24.573748Z"
    }
   },
   "outputs": [
    {
     "data": {
      "text/plain": [
       "'hello1'"
      ]
     },
     "execution_count": 12,
     "metadata": {},
     "output_type": "execute_result"
    }
   ],
   "source": [
    "# this unpacks the dictionary, the two stars mean that the unpacking is as key:value\n",
    "# check what happens if you only have one star\n",
    "simple_function(**simple_dict) "
   ]
  },
  {
   "cell_type": "markdown",
   "metadata": {},
   "source": [
    "## loops"
   ]
  },
  {
   "cell_type": "code",
   "execution_count": 13,
   "metadata": {
    "ExecuteTime": {
     "end_time": "2020-01-07T08:53:54.603907Z",
     "start_time": "2020-01-07T08:53:54.575636Z"
    }
   },
   "outputs": [
    {
     "name": "stdout",
     "output_type": "stream",
     "text": [
      "this is the value: 1  and this is the key: my_number\n",
      "this is the value: hello  and this is the key: my_string\n"
     ]
    }
   ],
   "source": [
    "for k,v in simple_dict.items():\n",
    "    print('this is the value:',v, ' and this is the key:', k)"
   ]
  },
  {
   "cell_type": "code",
   "execution_count": 14,
   "metadata": {
    "ExecuteTime": {
     "end_time": "2020-01-07T08:54:44.342854Z",
     "start_time": "2020-01-07T08:54:44.319067Z"
    }
   },
   "outputs": [
    {
     "name": "stdout",
     "output_type": "stream",
     "text": [
      "this is the value: 1  and this is the key: a\n",
      "this is the value: 2  and this is the key: b\n"
     ]
    }
   ],
   "source": [
    "# zip allows you to bundle different data quickly together\n",
    "for k,v in zip(['a', 'b'], [1,2]):\n",
    "    print('this is the value:',v, ' and this is the key:', k)"
   ]
  },
  {
   "cell_type": "code",
   "execution_count": 15,
   "metadata": {
    "ExecuteTime": {
     "end_time": "2020-01-07T08:56:03.860363Z",
     "start_time": "2020-01-07T08:56:03.850309Z"
    }
   },
   "outputs": [
    {
     "data": {
      "text/plain": [
       "{'a': 1, 'b': 2}"
      ]
     },
     "execution_count": 15,
     "metadata": {},
     "output_type": "execute_result"
    }
   ],
   "source": [
    "{k:v for k,v in zip(['a', 'b'], [1,2])}  # you can also loops to create dictionaries"
   ]
  },
  {
   "cell_type": "markdown",
   "metadata": {},
   "source": [
    "## paths\n",
    "\n",
    "python provides a convinient pathlib library"
   ]
  },
  {
   "cell_type": "code",
   "execution_count": 16,
   "metadata": {
    "ExecuteTime": {
     "end_time": "2020-01-07T09:00:41.610099Z",
     "start_time": "2020-01-07T09:00:41.588214Z"
    }
   },
   "outputs": [],
   "source": [
    "from pathlib import Path  # working with path objects - usefull for OS independent code"
   ]
  },
  {
   "cell_type": "code",
   "execution_count": 17,
   "metadata": {
    "ExecuteTime": {
     "end_time": "2020-01-07T09:02:06.682011Z",
     "start_time": "2020-01-07T09:02:06.655505Z"
    }
   },
   "outputs": [],
   "source": [
    "image_path = Path('../../images/') # define the path - usefull to define a global path at the beginning of the notebook"
   ]
  },
  {
   "cell_type": "code",
   "execution_count": 18,
   "metadata": {
    "ExecuteTime": {
     "end_time": "2020-01-07T09:02:06.979404Z",
     "start_time": "2020-01-07T09:02:06.958013Z"
    }
   },
   "outputs": [
    {
     "data": {
      "text/plain": [
       "[PosixPath('../../images/motivation.svg'),\n",
       " PosixPath('../../images/MC.png'),\n",
       " PosixPath('../../images/PyCharm-Github.png'),\n",
       " PosixPath('../../images/distro-01-1.png'),\n",
       " PosixPath('../../images/motivation.png'),\n",
       " PosixPath('../../images/nbextensions.png')]"
      ]
     },
     "execution_count": 18,
     "metadata": {},
     "output_type": "execute_result"
    }
   ],
   "source": [
    "[f for f in image_path.glob('*')] # glob allows you to search the path"
   ]
  },
  {
   "cell_type": "code",
   "execution_count": 19,
   "metadata": {
    "ExecuteTime": {
     "end_time": "2020-01-07T09:03:54.388891Z",
     "start_time": "2020-01-07T09:03:54.369136Z"
    }
   },
   "outputs": [
    {
     "data": {
      "text/plain": [
       "PosixPath('../../images/motivation.svg')"
      ]
     },
     "execution_count": 19,
     "metadata": {},
     "output_type": "execute_result"
    }
   ],
   "source": [
    "image_path/'motivation.svg' # appending to a path"
   ]
  },
  {
   "cell_type": "code",
   "execution_count": 20,
   "metadata": {
    "ExecuteTime": {
     "end_time": "2020-01-07T09:04:03.675616Z",
     "start_time": "2020-01-07T09:04:03.648254Z"
    }
   },
   "outputs": [
    {
     "data": {
      "text/plain": [
       "'images'"
      ]
     },
     "execution_count": 20,
     "metadata": {},
     "output_type": "execute_result"
    }
   ],
   "source": [
    "image_path.name # f"
   ]
  },
  {
   "cell_type": "code",
   "execution_count": 21,
   "metadata": {
    "ExecuteTime": {
     "end_time": "2020-01-07T09:04:22.283685Z",
     "start_time": "2020-01-07T09:04:22.256750Z"
    }
   },
   "outputs": [
    {
     "data": {
      "text/plain": [
       "True"
      ]
     },
     "execution_count": 21,
     "metadata": {},
     "output_type": "execute_result"
    }
   ],
   "source": [
    "image_path.exists() # check if file exists"
   ]
  },
  {
   "cell_type": "code",
   "execution_count": 22,
   "metadata": {
    "ExecuteTime": {
     "end_time": "2020-01-07T09:04:50.138938Z",
     "start_time": "2020-01-07T09:04:50.113653Z"
    }
   },
   "outputs": [
    {
     "data": {
      "text/plain": [
       "True"
      ]
     },
     "execution_count": 22,
     "metadata": {},
     "output_type": "execute_result"
    }
   ],
   "source": [
    "image_path.is_dir()  # check if is directory"
   ]
  },
  {
   "cell_type": "code",
   "execution_count": 23,
   "metadata": {
    "ExecuteTime": {
     "end_time": "2020-01-07T09:05:18.601312Z",
     "start_time": "2020-01-07T09:05:18.577885Z"
    }
   },
   "outputs": [
    {
     "data": {
      "text/plain": [
       "True"
      ]
     },
     "execution_count": 23,
     "metadata": {},
     "output_type": "execute_result"
    }
   ],
   "source": [
    "(image_path/'motivation.svg').exists() # check if file exists"
   ]
  },
  {
   "cell_type": "code",
   "execution_count": 24,
   "metadata": {
    "ExecuteTime": {
     "end_time": "2020-01-07T09:05:06.093895Z",
     "start_time": "2020-01-07T09:05:06.066298Z"
    }
   },
   "outputs": [
    {
     "data": {
      "text/plain": [
       "False"
      ]
     },
     "execution_count": 24,
     "metadata": {},
     "output_type": "execute_result"
    }
   ],
   "source": [
    "(image_path/'motivation.svg').is_dir()"
   ]
  },
  {
   "cell_type": "code",
   "execution_count": 25,
   "metadata": {
    "ExecuteTime": {
     "end_time": "2020-01-07T09:06:35.833476Z",
     "start_time": "2020-01-07T09:06:35.810644Z"
    }
   },
   "outputs": [
    {
     "data": {
      "text/plain": [
       "PosixPath('/Users/ityulnev/PycharmProjects/edaipynb/edaipynb/notebooks/../../images')"
      ]
     },
     "execution_count": 25,
     "metadata": {},
     "output_type": "execute_result"
    }
   ],
   "source": [
    "image_path.absolute()  # get the absolute path"
   ]
  },
  {
   "cell_type": "code",
   "execution_count": 26,
   "metadata": {
    "ExecuteTime": {
     "end_time": "2020-01-07T09:06:32.792797Z",
     "start_time": "2020-01-07T09:06:32.769526Z"
    }
   },
   "outputs": [
    {
     "data": {
      "text/plain": [
       "PosixPath('../..')"
      ]
     },
     "execution_count": 26,
     "metadata": {},
     "output_type": "execute_result"
    }
   ],
   "source": [
    "image_path.parent  # get the parent"
   ]
  },
  {
   "cell_type": "markdown",
   "metadata": {},
   "source": [
    "## strings\n",
    "\n",
    "you can easily format string useing the format function"
   ]
  },
  {
   "cell_type": "code",
   "execution_count": 27,
   "metadata": {
    "ExecuteTime": {
     "end_time": "2020-01-07T09:08:42.633988Z",
     "start_time": "2020-01-07T09:08:42.612894Z"
    }
   },
   "outputs": [
    {
     "data": {
      "text/plain": [
       "'this is a bare string, that takes a float here: 0.200'"
      ]
     },
     "execution_count": 27,
     "metadata": {},
     "output_type": "execute_result"
    }
   ],
   "source": [
    "'this is a bare string, that takes a float here: {:0.3f}'.format(0.2)"
   ]
  },
  {
   "cell_type": "code",
   "execution_count": 28,
   "metadata": {
    "ExecuteTime": {
     "end_time": "2020-01-07T09:09:32.140933Z",
     "start_time": "2020-01-07T09:09:32.116940Z"
    }
   },
   "outputs": [
    {
     "data": {
      "text/plain": [
       "'this is ...'"
      ]
     },
     "execution_count": 28,
     "metadata": {},
     "output_type": "execute_result"
    }
   ],
   "source": [
    "s = 'thies is ...'\n",
    "s.replace('thies', 'this')"
   ]
  },
  {
   "cell_type": "code",
   "execution_count": 29,
   "metadata": {
    "ExecuteTime": {
     "end_time": "2020-01-07T09:09:58.427863Z",
     "start_time": "2020-01-07T09:09:58.405434Z"
    }
   },
   "outputs": [
    {
     "data": {
      "text/plain": [
       "['thies', 'is', '...']"
      ]
     },
     "execution_count": 29,
     "metadata": {},
     "output_type": "execute_result"
    }
   ],
   "source": [
    "s.split(' ') # breaking up string creates a list"
   ]
  },
  {
   "cell_type": "code",
   "execution_count": 30,
   "metadata": {
    "ExecuteTime": {
     "end_time": "2020-01-07T09:13:26.555343Z",
     "start_time": "2020-01-07T09:13:26.535034Z"
    }
   },
   "outputs": [
    {
     "name": "stdout",
     "output_type": "stream",
     "text": [
      "run_01_pressure_1.20e-04_frequency_102024.00Hz\n"
     ]
    }
   ],
   "source": [
    "# this is usefull to encode and decode information into filenames\n",
    "\n",
    "filename = 'run_{:02d}_pressure_{:0.2e}_frequency_{:0.2f}Hz'.format(1, 1.2e-4, 102024)\n",
    "\n",
    "print(filename)"
   ]
  },
  {
   "cell_type": "code",
   "execution_count": 31,
   "metadata": {
    "ExecuteTime": {
     "end_time": "2020-01-07T09:16:59.747737Z",
     "start_time": "2020-01-07T09:16:59.720866Z"
    }
   },
   "outputs": [
    {
     "data": {
      "text/plain": [
       "(1, 0.00012, 102024.0)"
      ]
     },
     "execution_count": 31,
     "metadata": {},
     "output_type": "execute_result"
    }
   ],
   "source": [
    "# now we extract the information\n",
    "run = int(filename.split('_')[1])\n",
    "pressure = float(filename.split('_')[3])\n",
    "frequency = float(filename.split('_')[5].split('Hz')[0])\n",
    "\n",
    "run, pressure, frequency"
   ]
  },
  {
   "cell_type": "markdown",
   "metadata": {},
   "source": [
    "# Working with paths, functions and ploting"
   ]
  },
  {
   "cell_type": "code",
   "execution_count": 39,
   "metadata": {},
   "outputs": [],
   "source": [
    "import numpy as np # widely used python library for data manipulation, the 'as' allows you to rename the package on import\n",
    "import pandas as pd\n",
    "import json, yaml\n",
    "import sys # get some information about the current OS\n",
    "\n",
    "import matplotlib.pyplot as plt\n",
    "\n",
    "# show figures inline in the notebook\n",
    "%matplotlib inline \n",
    "\n",
    "\n",
    "from pathlib import Path  # working with path objects - usefull for OS independent code\n",
    "\n",
    "#path_data = Path('./data_tmp')\n",
    "\n",
    "# create the folder if it doesn't exist\n",
    "#if not data_path.exists(): data_path.mkdir()"
   ]
  },
  {
   "cell_type": "code",
   "execution_count": 49,
   "metadata": {
    "ExecuteTime": {
     "end_time": "2020-01-07T16:42:06.911955Z",
     "start_time": "2020-01-07T16:42:03.170536Z"
    }
   },
   "outputs": [],
   "source": [
    "my_function = lambda x, a, b, c : np.exp(-(x/(2*c))**2)"
   ]
  },
  {
   "cell_type": "code",
   "execution_count": 54,
   "metadata": {},
   "outputs": [
    {
     "data": {
      "text/plain": [
       "Text(0, 0.5, 'y')"
      ]
     },
     "execution_count": 54,
     "metadata": {},
     "output_type": "execute_result"
    },
    {
     "data": {
      "image/png": "[encoded data removed]",
      "text/plain": [
       "<Figure size 432x288 with 1 Axes>"
      ]
     },
     "metadata": {
      "needs_background": "light"
     },
     "output_type": "display_data"
    }
   ],
   "source": [
    "x = np.linspace(-200,200,250)\n",
    "\n",
    "parameters = dict(\n",
    "    a = 1,\n",
    "    b = 0.5,\n",
    "    c = 2 \n",
    ")\n",
    "\n",
    "y = my_function(x, **parameters)\n",
    "\n",
    "\n",
    "# plot the data\n",
    "plt.plot(x,y)\n",
    "plt.xlabel('x')\n",
    "plt.ylabel('y')"
   ]
  },
  {
   "cell_type": "code",
   "execution_count": 63,
   "metadata": {},
   "outputs": [],
   "source": [
    "my_fft=lambda x : np.fft.fft(x)"
   ]
  },
  {
   "cell_type": "code",
   "execution_count": 81,
   "metadata": {},
   "outputs": [
    {
     "data": {
      "text/plain": [
       "[<matplotlib.lines.Line2D at 0x122a81750>]"
      ]
     },
     "execution_count": 81,
     "metadata": {},
     "output_type": "execute_result"
    },
    {
     "data": {
      "image/png": "[encoded data removed]",
      "text/plain": [
       "<Figure size 432x288 with 1 Axes>"
      ]
     },
     "metadata": {
      "needs_background": "light"
     },
     "output_type": "display_data"
    }
   ],
   "source": [
    "yf=my_fft(y)\n",
    "# plot the data\n",
    "plt.plot(x,np.abs(np.fft.fftshift(yf)))"
   ]
  },
  {
   "cell_type": "code",
   "execution_count": 83,
   "metadata": {},
   "outputs": [
    {
     "data": {
      "text/plain": [
       "(0.9371671914476565+11.12546483056927j)"
      ]
     },
     "execution_count": 83,
     "metadata": {},
     "output_type": "execute_result"
    }
   ],
   "source": [
    "np.trapz(x,y)"
   ]
  },
  {
   "cell_type": "code",
   "execution_count": 90,
   "metadata": {},
   "outputs": [
    {
     "data": {
      "text/html": [
       "<div>\n",
       "<style scoped>\n",
       "    .dataframe tbody tr th:only-of-type {\n",
       "        vertical-align: middle;\n",
       "    }\n",
       "\n",
       "    .dataframe tbody tr th {\n",
       "        vertical-align: top;\n",
       "    }\n",
       "\n",
       "    .dataframe thead th {\n",
       "        text-align: right;\n",
       "    }\n",
       "</style>\n",
       "<table border=\"1\" class=\"dataframe\">\n",
       "  <thead>\n",
       "    <tr style=\"text-align: right;\">\n",
       "      <th></th>\n",
       "      <th>my_x</th>\n",
       "      <th>my_y</th>\n",
       "    </tr>\n",
       "  </thead>\n",
       "  <tbody>\n",
       "    <tr>\n",
       "      <td>0</td>\n",
       "      <td>-200.000000</td>\n",
       "      <td>0.0</td>\n",
       "    </tr>\n",
       "    <tr>\n",
       "      <td>1</td>\n",
       "      <td>-198.393574</td>\n",
       "      <td>0.0</td>\n",
       "    </tr>\n",
       "    <tr>\n",
       "      <td>2</td>\n",
       "      <td>-196.787149</td>\n",
       "      <td>0.0</td>\n",
       "    </tr>\n",
       "    <tr>\n",
       "      <td>3</td>\n",
       "      <td>-195.180723</td>\n",
       "      <td>0.0</td>\n",
       "    </tr>\n",
       "    <tr>\n",
       "      <td>4</td>\n",
       "      <td>-193.574297</td>\n",
       "      <td>0.0</td>\n",
       "    </tr>\n",
       "    <tr>\n",
       "      <td>...</td>\n",
       "      <td>...</td>\n",
       "      <td>...</td>\n",
       "    </tr>\n",
       "    <tr>\n",
       "      <td>245</td>\n",
       "      <td>193.574297</td>\n",
       "      <td>0.0</td>\n",
       "    </tr>\n",
       "    <tr>\n",
       "      <td>246</td>\n",
       "      <td>195.180723</td>\n",
       "      <td>0.0</td>\n",
       "    </tr>\n",
       "    <tr>\n",
       "      <td>247</td>\n",
       "      <td>196.787149</td>\n",
       "      <td>0.0</td>\n",
       "    </tr>\n",
       "    <tr>\n",
       "      <td>248</td>\n",
       "      <td>198.393574</td>\n",
       "      <td>0.0</td>\n",
       "    </tr>\n",
       "    <tr>\n",
       "      <td>249</td>\n",
       "      <td>200.000000</td>\n",
       "      <td>0.0</td>\n",
       "    </tr>\n",
       "  </tbody>\n",
       "</table>\n",
       "<p>250 rows × 2 columns</p>\n",
       "</div>"
      ],
      "text/plain": [
       "           my_x  my_y\n",
       "0   -200.000000   0.0\n",
       "1   -198.393574   0.0\n",
       "2   -196.787149   0.0\n",
       "3   -195.180723   0.0\n",
       "4   -193.574297   0.0\n",
       "..          ...   ...\n",
       "245  193.574297   0.0\n",
       "246  195.180723   0.0\n",
       "247  196.787149   0.0\n",
       "248  198.393574   0.0\n",
       "249  200.000000   0.0\n",
       "\n",
       "[250 rows x 2 columns]"
      ]
     },
     "execution_count": 90,
     "metadata": {},
     "output_type": "execute_result"
    }
   ],
   "source": [
    "# make a pandas dataframe\n",
    "df = pd.DataFrame.from_dict({'my_x':x, 'my_y':y})\n",
    "df"
   ]
  },
  {
   "cell_type": "code",
   "execution_count": 93,
   "metadata": {},
   "outputs": [],
   "source": [
    "if not path_data.exists(): path_data.mkdir()\n",
    "df.to_csv(path_data/'thismydata.csv', index=None)"
   ]
  },
  {
   "cell_type": "code",
   "execution_count": 95,
   "metadata": {},
   "outputs": [
    {
     "data": {
      "text/plain": [
       "<matplotlib.axes._subplots.AxesSubplot at 0x1221d7cd0>"
      ]
     },
     "execution_count": 95,
     "metadata": {},
     "output_type": "execute_result"
    },
    {
     "data": {
      "image/png": "[encoded data removed]",
      "text/plain": [
       "<Figure size 432x288 with 1 Axes>"
      ]
     },
     "metadata": {
      "needs_background": "light"
     },
     "output_type": "display_data"
    }
   ],
   "source": [
    "dfloaded = pd.read_csv(path_data/'thismydata.csv')\n",
    "dfloaded.plot('my_x','my_y') # pandas also allows you to directly plot the data"
   ]
  },
  {
   "cell_type": "markdown",
   "metadata": {},
   "source": [
    "Code to install a package from GIT: {   !pip install git+https://github.com/JanGieseler/edaipynb.git   } \n",
    "<br> (! used to run external code from notebook)\n",
    "<br>\n",
    "<br> another new line appears!"
   ]
  },
  {
   "cell_type": "code",
   "execution_count": 96,
   "metadata": {},
   "outputs": [
    {
     "name": "stdout",
     "output_type": "stream",
     "text": [
      "Collecting git+https://github.com/JanGieseler/edaipynb.git\n",
      "  Cloning https://github.com/JanGieseler/edaipynb.git to /private/var/folders/ym/c835gmmn77ggv07fy2s3z9q1tjj0cn/T/pip-req-build-34sggrfk\n",
      "  Running command git clone -q https://github.com/JanGieseler/edaipynb.git /private/var/folders/ym/c835gmmn77ggv07fy2s3z9q1tjj0cn/T/pip-req-build-34sggrfk\n",
      "Requirement already satisfied: matplotlib in /Users/ityulnev/opt/anaconda3/lib/python3.7/site-packages (from edaipynb==0.1a3) (3.1.1)\n",
      "Requirement already satisfied: pandas in /Users/ityulnev/opt/anaconda3/lib/python3.7/site-packages (from edaipynb==0.1a3) (0.25.1)\n",
      "Requirement already satisfied: numpy in /Users/ityulnev/opt/anaconda3/lib/python3.7/site-packages (from edaipynb==0.1a3) (1.17.2)\n",
      "Requirement already satisfied: scipy in /Users/ityulnev/opt/anaconda3/lib/python3.7/site-packages (from edaipynb==0.1a3) (1.3.1)\n",
      "Collecting lmfit (from edaipynb==0.1a3)\n",
      "\u001b[?25l  Downloading https://files.pythonhosted.org/packages/82/99/e7cc83cb946955232477554248e86cb43691d8dd30be1d6ac70d64c202d3/lmfit-1.0.0.tar.gz (258kB)\n",
      "\u001b[K     |████████████████████████████████| 266kB 984kB/s eta 0:00:01\n",
      "\u001b[?25hCollecting uncertainties (from edaipynb==0.1a3)\n",
      "\u001b[?25l  Downloading https://files.pythonhosted.org/packages/2a/c2/babbe5b16141859dd799ed31c03987100a7b6d0ca7c0ed4429c96ce60fdf/uncertainties-3.1.2.tar.gz (232kB)\n",
      "\u001b[K     |████████████████████████████████| 235kB 3.1MB/s eta 0:00:01\n",
      "\u001b[?25hRequirement already satisfied: cycler>=0.10 in /Users/ityulnev/opt/anaconda3/lib/python3.7/site-packages (from matplotlib->edaipynb==0.1a3) (0.10.0)\n",
      "Requirement already satisfied: kiwisolver>=1.0.1 in /Users/ityulnev/opt/anaconda3/lib/python3.7/site-packages (from matplotlib->edaipynb==0.1a3) (1.1.0)\n",
      "Requirement already satisfied: pyparsing!=2.0.4,!=2.1.2,!=2.1.6,>=2.0.1 in /Users/ityulnev/opt/anaconda3/lib/python3.7/site-packages (from matplotlib->edaipynb==0.1a3) (2.4.2)\n",
      "Requirement already satisfied: python-dateutil>=2.1 in /Users/ityulnev/opt/anaconda3/lib/python3.7/site-packages (from matplotlib->edaipynb==0.1a3) (2.8.0)\n",
      "Requirement already satisfied: pytz>=2017.2 in /Users/ityulnev/opt/anaconda3/lib/python3.7/site-packages (from pandas->edaipynb==0.1a3) (2019.3)\n",
      "Collecting asteval>=0.9.16 (from lmfit->edaipynb==0.1a3)\n",
      "\u001b[?25l  Downloading https://files.pythonhosted.org/packages/e4/3b/8aaee90977588fa3e88d7a495af306d6f4a1c1c01c8f0fe0de1fc43d0908/asteval-0.9.18.tar.gz (52kB)\n",
      "\u001b[K     |████████████████████████████████| 61kB 3.9MB/s eta 0:00:011\n",
      "\u001b[?25hRequirement already satisfied: six in /Users/ityulnev/opt/anaconda3/lib/python3.7/site-packages (from cycler>=0.10->matplotlib->edaipynb==0.1a3) (1.12.0)\n",
      "Requirement already satisfied: setuptools in /Users/ityulnev/opt/anaconda3/lib/python3.7/site-packages (from kiwisolver>=1.0.1->matplotlib->edaipynb==0.1a3) (41.4.0)\n",
      "Building wheels for collected packages: edaipynb, lmfit, uncertainties, asteval\n",
      "  Building wheel for edaipynb (setup.py) ... \u001b[?25ldone\n",
      "\u001b[?25h  Created wheel for edaipynb: filename=edaipynb-0.1a3-cp37-none-any.whl size=3125 sha256=6582139aef501684e231a990f4187a202f340d65e53f2acf0fda587a9ed284c9\n",
      "  Stored in directory: /private/var/folders/ym/c835gmmn77ggv07fy2s3z9q1tjj0cn/T/pip-ephem-wheel-cache-ptosbfzn/wheels/e3/60/83/6894a6c578acb690e6f2ae3119ce7bb89cbac16c460f3eafa5\n",
      "  Building wheel for lmfit (setup.py) ... \u001b[?25ldone\n",
      "\u001b[?25h  Created wheel for lmfit: filename=lmfit-1.0.0-cp37-none-any.whl size=87916 sha256=878786e2428b3d20f821261325d288b0a245bfe9e98986ad98d62a5e7f989cdc\n",
      "  Stored in directory: /Users/ityulnev/Library/Caches/pip/wheels/1f/93/e9/8d3f759e466f5bbfed3ba1d7dc5b3d4389c469a1ec9a2acaee\n",
      "  Building wheel for uncertainties (setup.py) ... \u001b[?25ldone\n",
      "\u001b[?25h  Created wheel for uncertainties: filename=uncertainties-3.1.2-cp37-none-any.whl size=96457 sha256=59fdd1167e2bd65373f29d527d470e2bbb4cf47441d1ca4b2874c89b04684095\n",
      "  Stored in directory: /Users/ityulnev/Library/Caches/pip/wheels/d9/d3/0e/5b0b743a8abd50373705427438456da5dc2621891138d7a618\n",
      "  Building wheel for asteval (setup.py) ... \u001b[?25ldone\n",
      "\u001b[?25h  Created wheel for asteval: filename=asteval-0.9.18-cp37-none-any.whl size=17381 sha256=0f5430c8b92ca5b3f4aa41e9260acf3b16d32a085c55372f57224bd10903b90b\n",
      "  Stored in directory: /Users/ityulnev/Library/Caches/pip/wheels/1c/53/1b/28d929700c9633b1786a4982e6db564ec8326a8930234dcc19\n",
      "Successfully built edaipynb lmfit uncertainties asteval\n",
      "Installing collected packages: asteval, uncertainties, lmfit, edaipynb\n",
      "Successfully installed asteval-0.9.18 edaipynb-0.1a3 lmfit-1.0.0 uncertainties-3.1.2\n"
     ]
    }
   ],
   "source": [
    "!pip install git+https://github.com/JanGieseler/edaipynb.git"
   ]
  },
  {
   "cell_type": "code",
   "execution_count": null,
   "metadata": {},
   "outputs": [],
   "source": []
  }
 ],
 "metadata": {
  "hide_input": false,
  "kernelspec": {
   "display_name": "Python 3",
   "language": "python",
   "name": "python3"
  },
  "language_info": {
   "codemirror_mode": {
    "name": "ipython",
    "version": 3
   },
   "file_extension": ".py",
   "mimetype": "text/x-python",
   "name": "python",
   "nbconvert_exporter": "python",
   "pygments_lexer": "ipython3",
   "version": "3.7.4"
  },
  "toc": {
   "base_numbering": 1,
   "nav_menu": {},
   "number_sections": true,
   "sideBar": true,
   "skip_h1_title": false,
   "title_cell": "Table of Contents",
   "title_sidebar": "Contents",
   "toc_cell": false,
   "toc_position": {},
   "toc_section_display": true,
   "toc_window_display": true
  }
 },
 "nbformat": 4,
 "nbformat_minor": 2
}
